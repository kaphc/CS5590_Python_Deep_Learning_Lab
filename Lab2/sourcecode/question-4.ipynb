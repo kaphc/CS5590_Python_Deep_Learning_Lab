{
 "cells": [
  {
   "cell_type": "markdown",
   "metadata": {},
   "source": [
    "Repeat steps until model training"
   ]
  },
  {
   "cell_type": "code",
   "execution_count": 2,
   "metadata": {},
   "outputs": [
    {
     "name": "stderr",
     "output_type": "stream",
     "text": [
      "Using TensorFlow backend.\n"
     ]
    }
   ],
   "source": [
    "import pandas as pd\n",
    "\n",
    "from sklearn.preprocessing import LabelEncoder\n",
    "from sklearn.model_selection import train_test_split\n",
    "\n",
    "from keras.preprocessing.text import Tokenizer\n",
    "from keras.preprocessing.sequence import pad_sequences\n",
    "from keras.models import Sequential\n",
    "from keras.layers import Dense, Embedding, LSTM, SpatialDropout1D\n",
    "from keras.utils.np_utils import to_categorical\n",
    "from keras.layers.convolutional import Conv1D, MaxPooling1D\n",
    "from keras.layers import Flatten\n",
    "from keras import optimizers\n",
    "from keras.constraints import maxnorm\n",
    "\n",
    "\n",
    "import re"
   ]
  },
  {
   "cell_type": "code",
   "execution_count": 3,
   "metadata": {},
   "outputs": [],
   "source": [
    "dataset = pd.read_csv('spam.csv', encoding='latin-1')"
   ]
  },
  {
   "cell_type": "code",
   "execution_count": 4,
   "metadata": {},
   "outputs": [],
   "source": [
    "dataset.drop(['Unnamed: 2','Unnamed: 3','Unnamed: 4'],axis=1,inplace=True)"
   ]
  },
  {
   "cell_type": "code",
   "execution_count": 5,
   "metadata": {},
   "outputs": [],
   "source": [
    "dataset['spam_or_ham']=dataset.spam_or_ham.str.strip()\n",
    "dataset['message']=dataset.message.str.strip()\n",
    "dataset['message']=dataset.message.str.lower()"
   ]
  },
  {
   "cell_type": "code",
   "execution_count": 6,
   "metadata": {},
   "outputs": [],
   "source": [
    "maximum_number_of_features = 1500\n",
    "tokenizer = Tokenizer(num_words=maximum_number_of_features, split=' ')\n",
    "tokenizer.fit_on_texts(dataset['message'].values)\n",
    "X = tokenizer.texts_to_sequences(dataset['message'].values)"
   ]
  },
  {
   "cell_type": "code",
   "execution_count": 7,
   "metadata": {},
   "outputs": [],
   "source": [
    "X = pad_sequences(X)"
   ]
  },
  {
   "cell_type": "code",
   "execution_count": 8,
   "metadata": {},
   "outputs": [],
   "source": [
    "labelencoder = LabelEncoder()\n",
    "integer_encoded = labelencoder.fit_transform(dataset['spam_or_ham'])\n",
    "Y = to_categorical(integer_encoded)"
   ]
  },
  {
   "cell_type": "code",
   "execution_count": 9,
   "metadata": {},
   "outputs": [
    {
     "name": "stdout",
     "output_type": "stream",
     "text": [
      "(3733, 172) (3733, 2)\n",
      "(1839, 172) (1839, 2)\n"
     ]
    }
   ],
   "source": [
    "X_train, X_test, Y_train, Y_test = train_test_split(X, Y, test_size=0.33, random_state=42)\n",
    "print(X_train.shape, Y_train.shape)\n",
    "print(X_test.shape, Y_test.shape)"
   ]
  },
  {
   "cell_type": "markdown",
   "metadata": {},
   "source": [
    "LSTM Model training:\n",
    "1. Create a Sequential model in which sequential model can add several layers to the model.\n",
    "2. Add LSTM Layer.\n",
    "2. Add several layers like Embedding with and SpatialDropout1D."
   ]
  },
  {
   "cell_type": "code",
   "execution_count": null,
   "metadata": {},
   "outputs": [
    {
     "name": "stderr",
     "output_type": "stream",
     "text": [
      "WARNING: Logging before flag parsing goes to stderr.\n",
      "W0722 21:30:11.275977  3380 deprecation_wrapper.py:119] From C:\\Users\\kaphc\\Anaconda3\\envs\\python3.6\\lib\\site-packages\\keras\\backend\\tensorflow_backend.py:74: The name tf.get_default_graph is deprecated. Please use tf.compat.v1.get_default_graph instead.\n",
      "\n",
      "W0722 21:30:11.319418  3380 deprecation_wrapper.py:119] From C:\\Users\\kaphc\\Anaconda3\\envs\\python3.6\\lib\\site-packages\\keras\\backend\\tensorflow_backend.py:517: The name tf.placeholder is deprecated. Please use tf.compat.v1.placeholder instead.\n",
      "\n",
      "W0722 21:30:11.325401  3380 deprecation_wrapper.py:119] From C:\\Users\\kaphc\\Anaconda3\\envs\\python3.6\\lib\\site-packages\\keras\\backend\\tensorflow_backend.py:4138: The name tf.random_uniform is deprecated. Please use tf.random.uniform instead.\n",
      "\n",
      "W0722 21:30:11.385217  3380 deprecation_wrapper.py:119] From C:\\Users\\kaphc\\Anaconda3\\envs\\python3.6\\lib\\site-packages\\keras\\backend\\tensorflow_backend.py:133: The name tf.placeholder_with_default is deprecated. Please use tf.compat.v1.placeholder_with_default instead.\n",
      "\n",
      "W0722 21:30:11.410066  3380 deprecation.py:506] From C:\\Users\\kaphc\\Anaconda3\\envs\\python3.6\\lib\\site-packages\\keras\\backend\\tensorflow_backend.py:3445: calling dropout (from tensorflow.python.ops.nn_ops) with keep_prob is deprecated and will be removed in a future version.\n",
      "Instructions for updating:\n",
      "Please use `rate` instead of `keep_prob`. Rate should be set to `rate = 1 - keep_prob`.\n",
      "W0722 21:30:12.620009  3380 deprecation_wrapper.py:119] From C:\\Users\\kaphc\\Anaconda3\\envs\\python3.6\\lib\\site-packages\\keras\\optimizers.py:790: The name tf.train.Optimizer is deprecated. Please use tf.compat.v1.train.Optimizer instead.\n",
      "\n",
      "W0722 21:30:12.681786  3380 deprecation_wrapper.py:119] From C:\\Users\\kaphc\\Anaconda3\\envs\\python3.6\\lib\\site-packages\\keras\\backend\\tensorflow_backend.py:3295: The name tf.log is deprecated. Please use tf.math.log instead.\n",
      "\n"
     ]
    },
    {
     "name": "stdout",
     "output_type": "stream",
     "text": [
      "_________________________________________________________________\n",
      "Layer (type)                 Output Shape              Param #   \n",
      "=================================================================\n",
      "embedding_1 (Embedding)      (None, 172, 128)          192000    \n",
      "_________________________________________________________________\n",
      "spatial_dropout1d_1 (Spatial (None, 172, 128)          0         \n",
      "_________________________________________________________________\n",
      "lstm_1 (LSTM)                (None, 196)               254800    \n",
      "_________________________________________________________________\n",
      "dense_1 (Dense)              (None, 2)                 394       \n",
      "=================================================================\n",
      "Total params: 447,194\n",
      "Trainable params: 447,194\n",
      "Non-trainable params: 0\n",
      "_________________________________________________________________\n",
      "None\n"
     ]
    }
   ],
   "source": [
    "model = Sequential()\n",
    "model.add(Embedding(1500, 128,input_length = X.shape[1]))\n",
    "model.add(SpatialDropout1D(0.4))\n",
    "model.add(LSTM(196, dropout=0.2, recurrent_dropout=0.2))\n",
    "model.add(Dense(2,activation='sigmoid'))\n",
    "model.compile(loss = 'categorical_crossentropy', optimizer='adam',metrics = ['accuracy'])\n",
    "\n",
    "print(model.summary())"
   ]
  },
  {
   "cell_type": "markdown",
   "metadata": {},
   "source": [
    "Fit the model"
   ]
  },
  {
   "cell_type": "code",
   "execution_count": null,
   "metadata": {},
   "outputs": [
    {
     "name": "stderr",
     "output_type": "stream",
     "text": [
      "W0722 21:30:12.989036  3380 deprecation.py:323] From C:\\Users\\kaphc\\Anaconda3\\envs\\python3.6\\lib\\site-packages\\tensorflow\\python\\ops\\math_grad.py:1250: add_dispatch_support.<locals>.wrapper (from tensorflow.python.ops.array_ops) is deprecated and will be removed in a future version.\n",
      "Instructions for updating:\n",
      "Use tf.where in 2.0, which has the same broadcast rule as np.where\n"
     ]
    },
    {
     "name": "stdout",
     "output_type": "stream",
     "text": [
      "Train on 3733 samples, validate on 1839 samples\n",
      "Epoch 1/16\n",
      " - 62s - loss: 0.4176 - acc: 0.8602 - val_loss: 0.1901 - val_acc: 0.9342\n",
      "Epoch 2/16\n",
      " - 60s - loss: 0.0897 - acc: 0.9721 - val_loss: 0.0662 - val_acc: 0.9821\n",
      "Epoch 3/16\n",
      " - 61s - loss: 0.0403 - acc: 0.9879 - val_loss: 0.0576 - val_acc: 0.9842\n",
      "Epoch 4/16\n",
      " - 61s - loss: 0.0294 - acc: 0.9922 - val_loss: 0.0599 - val_acc: 0.9831\n",
      "Epoch 5/16\n",
      " - 61s - loss: 0.0180 - acc: 0.9954 - val_loss: 0.0602 - val_acc: 0.9848\n",
      "Epoch 6/16\n",
      " - 55s - loss: 0.0095 - acc: 0.9981 - val_loss: 0.0642 - val_acc: 0.9831\n",
      "Epoch 7/16\n",
      " - 58s - loss: 0.0127 - acc: 0.9968 - val_loss: 0.0611 - val_acc: 0.9831\n",
      "Epoch 8/16\n"
     ]
    }
   ],
   "source": [
    "model.fit(X_train, Y_train, validation_data=(X_test, Y_test), epochs = 16, batch_size=100, verbose = 2)"
   ]
  },
  {
   "cell_type": "markdown",
   "metadata": {},
   "source": [
    "Find accuracy"
   ]
  },
  {
   "cell_type": "code",
   "execution_count": null,
   "metadata": {},
   "outputs": [],
   "source": [
    "score,acc = model.evaluate(X_test,Y_test,verbose=2,batch_size=40)\n",
    "print(score)\n",
    "print(acc)"
   ]
  },
  {
   "cell_type": "code",
   "execution_count": null,
   "metadata": {},
   "outputs": [],
   "source": []
  }
 ],
 "metadata": {
  "kernelspec": {
   "display_name": "Python 3",
   "language": "python",
   "name": "python3"
  },
  "language_info": {
   "codemirror_mode": {
    "name": "ipython",
    "version": 3
   },
   "file_extension": ".py",
   "mimetype": "text/x-python",
   "name": "python",
   "nbconvert_exporter": "python",
   "pygments_lexer": "ipython3",
   "version": "3.6.8"
  }
 },
 "nbformat": 4,
 "nbformat_minor": 2
}
